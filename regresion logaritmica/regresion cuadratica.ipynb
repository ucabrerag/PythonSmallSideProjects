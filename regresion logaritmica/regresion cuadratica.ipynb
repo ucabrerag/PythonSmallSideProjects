{
 "cells": [
  {
   "cell_type": "code",
   "execution_count": 117,
   "metadata": {},
   "outputs": [],
   "source": [
    "import pandas as pd\n",
    "import seaborn as sns\n",
    "import numpy as np\n",
    "import matplotlib.pyplot as plt\n",
    "import statsmodels.api as smf\n",
    "from sklearn.model_selection import train_test_split"
   ]
  },
  {
   "cell_type": "code",
   "execution_count": 150,
   "metadata": {},
   "outputs": [],
   "source": [
    "data = pd.read_csv(\"auto-mpg.csv\")\n",
    "data.drop([\"car name\", \"origin\"], axis=1, inplace= True)\n",
    "data = data.dropna()"
   ]
  },
  {
   "cell_type": "code",
   "execution_count": 110,
   "metadata": {},
   "outputs": [],
   "source": [
    "data.columns=[\"MPG\", \"Cilindraje\", \"Desplazamiento\", \"Caballos de fuerza\", \"Peso\", \"Aceleracion\", \"Año modelo\" ]"
   ]
  },
  {
   "cell_type": "code",
   "execution_count": 111,
   "metadata": {},
   "outputs": [],
   "source": [
    "cols= [\"Cilindraje\", \"Desplazamiento\", \"Caballos de fuerza\", \"Peso\", \"Aceleracion\", \"Año modelo\" ]\n",
    "x = data[cols]\n",
    "y = np.log10(data[\"MPG\"])\n",
    "data[\"MPG\"]=y"
   ]
  },
  {
   "cell_type": "code",
   "execution_count": 112,
   "metadata": {},
   "outputs": [],
   "source": [
    "data2 = data[[\"MPG\",\"Caballos de fuerza\", \"Peso\",\"Año modelo\"]]"
   ]
  },
  {
   "cell_type": "code",
   "execution_count": 114,
   "metadata": {},
   "outputs": [
    {
     "data": {
      "text/html": [
       "<table class=\"simpletable\">\n",
       "<caption>OLS Regression Results</caption>\n",
       "<tr>\n",
       "  <th>Dep. Variable:</th>           <td>MPG</td>       <th>  R-squared:         </th> <td>   0.874</td> \n",
       "</tr>\n",
       "<tr>\n",
       "  <th>Model:</th>                   <td>OLS</td>       <th>  Adj. R-squared:    </th> <td>   0.872</td> \n",
       "</tr>\n",
       "<tr>\n",
       "  <th>Method:</th>             <td>Least Squares</td>  <th>  F-statistic:       </th> <td>   446.2</td> \n",
       "</tr>\n",
       "<tr>\n",
       "  <th>Date:</th>             <td>Wed, 25 Sep 2019</td> <th>  Prob (F-statistic):</th> <td>6.38e-170</td>\n",
       "</tr>\n",
       "<tr>\n",
       "  <th>Time:</th>                 <td>14:35:52</td>     <th>  Log-Likelihood:    </th> <td>  600.48</td> \n",
       "</tr>\n",
       "<tr>\n",
       "  <th>No. Observations:</th>      <td>   392</td>      <th>  AIC:               </th> <td>  -1187.</td> \n",
       "</tr>\n",
       "<tr>\n",
       "  <th>Df Residuals:</th>          <td>   385</td>      <th>  BIC:               </th> <td>  -1159.</td> \n",
       "</tr>\n",
       "<tr>\n",
       "  <th>Df Model:</th>              <td>     6</td>      <th>                     </th>     <td> </td>    \n",
       "</tr>\n",
       "<tr>\n",
       "  <th>Covariance Type:</th>      <td>nonrobust</td>    <th>                     </th>     <td> </td>    \n",
       "</tr>\n",
       "</table>\n",
       "<table class=\"simpletable\">\n",
       "<tr>\n",
       "           <td></td>             <th>coef</th>     <th>std err</th>      <th>t</th>      <th>P>|t|</th>  <th>[0.025</th>    <th>0.975]</th>  \n",
       "</tr>\n",
       "<tr>\n",
       "  <th>const</th>              <td>    0.7937</td> <td>    0.073</td> <td>   10.845</td> <td> 0.000</td> <td>    0.650</td> <td>    0.938</td>\n",
       "</tr>\n",
       "<tr>\n",
       "  <th>Cilindraje</th>         <td>   -0.0101</td> <td>    0.005</td> <td>   -1.982</td> <td> 0.048</td> <td>   -0.020</td> <td>-7.89e-05</td>\n",
       "</tr>\n",
       "<tr>\n",
       "  <th>Desplazamiento</th>     <td>    0.0001</td> <td>    0.000</td> <td>    1.104</td> <td> 0.270</td> <td>-9.74e-05</td> <td>    0.000</td>\n",
       "</tr>\n",
       "<tr>\n",
       "  <th>Caballos de fuerza</th> <td>   -0.0004</td> <td>    0.000</td> <td>   -2.047</td> <td> 0.041</td> <td>   -0.001</td> <td>-1.73e-05</td>\n",
       "</tr>\n",
       "<tr>\n",
       "  <th>Peso</th>               <td>   -0.0001</td> <td> 1.03e-05</td> <td>  -11.151</td> <td> 0.000</td> <td>   -0.000</td> <td>-9.45e-05</td>\n",
       "</tr>\n",
       "<tr>\n",
       "  <th>Aceleracion</th>        <td>   -0.0005</td> <td>    0.002</td> <td>   -0.336</td> <td> 0.737</td> <td>   -0.004</td> <td>    0.003</td>\n",
       "</tr>\n",
       "<tr>\n",
       "  <th>Año modelo</th>         <td>    0.0129</td> <td>    0.001</td> <td>   15.930</td> <td> 0.000</td> <td>    0.011</td> <td>    0.014</td>\n",
       "</tr>\n",
       "</table>\n",
       "<table class=\"simpletable\">\n",
       "<tr>\n",
       "  <th>Omnibus:</th>       <td> 5.281</td> <th>  Durbin-Watson:     </th> <td>   1.343</td>\n",
       "</tr>\n",
       "<tr>\n",
       "  <th>Prob(Omnibus):</th> <td> 0.071</td> <th>  Jarque-Bera (JB):  </th> <td>   7.132</td>\n",
       "</tr>\n",
       "<tr>\n",
       "  <th>Skew:</th>          <td>-0.042</td> <th>  Prob(JB):          </th> <td>  0.0283</td>\n",
       "</tr>\n",
       "<tr>\n",
       "  <th>Kurtosis:</th>      <td> 3.655</td> <th>  Cond. No.          </th> <td>8.53e+04</td>\n",
       "</tr>\n",
       "</table><br/><br/>Warnings:<br/>[1] Standard Errors assume that the covariance matrix of the errors is correctly specified.<br/>[2] The condition number is large, 8.53e+04. This might indicate that there are<br/>strong multicollinearity or other numerical problems."
      ],
      "text/plain": [
       "<class 'statsmodels.iolib.summary.Summary'>\n",
       "\"\"\"\n",
       "                            OLS Regression Results                            \n",
       "==============================================================================\n",
       "Dep. Variable:                    MPG   R-squared:                       0.874\n",
       "Model:                            OLS   Adj. R-squared:                  0.872\n",
       "Method:                 Least Squares   F-statistic:                     446.2\n",
       "Date:                Wed, 25 Sep 2019   Prob (F-statistic):          6.38e-170\n",
       "Time:                        14:35:52   Log-Likelihood:                 600.48\n",
       "No. Observations:                 392   AIC:                            -1187.\n",
       "Df Residuals:                     385   BIC:                            -1159.\n",
       "Df Model:                           6                                         \n",
       "Covariance Type:            nonrobust                                         \n",
       "======================================================================================\n",
       "                         coef    std err          t      P>|t|      [0.025      0.975]\n",
       "--------------------------------------------------------------------------------------\n",
       "const                  0.7937      0.073     10.845      0.000       0.650       0.938\n",
       "Cilindraje            -0.0101      0.005     -1.982      0.048      -0.020   -7.89e-05\n",
       "Desplazamiento         0.0001      0.000      1.104      0.270   -9.74e-05       0.000\n",
       "Caballos de fuerza    -0.0004      0.000     -2.047      0.041      -0.001   -1.73e-05\n",
       "Peso                  -0.0001   1.03e-05    -11.151      0.000      -0.000   -9.45e-05\n",
       "Aceleracion           -0.0005      0.002     -0.336      0.737      -0.004       0.003\n",
       "Año modelo             0.0129      0.001     15.930      0.000       0.011       0.014\n",
       "==============================================================================\n",
       "Omnibus:                        5.281   Durbin-Watson:                   1.343\n",
       "Prob(Omnibus):                  0.071   Jarque-Bera (JB):                7.132\n",
       "Skew:                          -0.042   Prob(JB):                       0.0283\n",
       "Kurtosis:                       3.655   Cond. No.                     8.53e+04\n",
       "==============================================================================\n",
       "\n",
       "Warnings:\n",
       "[1] Standard Errors assume that the covariance matrix of the errors is correctly specified.\n",
       "[2] The condition number is large, 8.53e+04. This might indicate that there are\n",
       "strong multicollinearity or other numerical problems.\n",
       "\"\"\""
      ]
     },
     "execution_count": 114,
     "metadata": {},
     "output_type": "execute_result"
    }
   ],
   "source": [
    "## fit a OLS model with intercept on TV and Radio\n",
    "X = smf.add_constant(x)\n",
    "est = smf.OLS(y, X).fit()\n",
    "est.summary()"
   ]
  },
  {
   "cell_type": "code",
   "execution_count": 113,
   "metadata": {},
   "outputs": [
    {
     "data": {
      "text/plain": [
       "<matplotlib.axes._subplots.AxesSubplot at 0x24419cfd748>"
      ]
     },
     "execution_count": 113,
     "metadata": {},
     "output_type": "execute_result"
    },
    {
     "data": {
      "image/png": "[encoded data removed]",
      "text/plain": [
       "<Figure size 720x360 with 2 Axes>"
      ]
     },
     "metadata": {
      "needs_background": "light"
     },
     "output_type": "display_data"
    }
   ],
   "source": [
    "plt.figure(figsize=(10,5))\n",
    "plt.title(\"MATRIZ DE CORRELACIONES\", fontsize=30)\n",
    "sns.heatmap(data2.corr(), annot=True)"
   ]
  },
  {
   "cell_type": "code",
   "execution_count": 181,
   "metadata": {},
   "outputs": [],
   "source": [
    "data = pd.read_csv(\"auto-mpg.csv\")\n",
    "data.drop([\"car name\", \"origin\"], axis=1, inplace= True)\n",
    "data = data.dropna()"
   ]
  },
  {
   "cell_type": "code",
   "execution_count": 182,
   "metadata": {},
   "outputs": [],
   "source": [
    "data[\"model year\"]=data[\"model year\"].replace(70, 0)\n",
    "data[\"model year\"]=data[\"model year\"].replace(71, 1)\n",
    "data[\"model year\"]=data[\"model year\"].replace(72, 2)\n",
    "data[\"model year\"]=data[\"model year\"].replace(73, 3)\n",
    "data[\"model year\"]=data[\"model year\"].replace(74, 4)\n",
    "data[\"model year\"]=data[\"model year\"].replace(75, 5)\n",
    "data[\"model year\"]=data[\"model year\"].replace(76, 6)\n",
    "data[\"model year\"]=data[\"model year\"].replace(77, 7)\n",
    "data[\"model year\"]=data[\"model year\"].replace(78, 8)\n",
    "data[\"model year\"]=data[\"model year\"].replace(79, 9)\n",
    "data[\"model year\"]=data[\"model year\"].replace(80, 10)\n",
    "data[\"model year\"]=data[\"model year\"].replace(81, 11)\n",
    "data[\"model year\"]=data[\"model year\"].replace(82, 12)\n"
   ]
  },
  {
   "cell_type": "code",
   "execution_count": 183,
   "metadata": {},
   "outputs": [],
   "source": [
    "train, test = train_test_split(data, test_size = 0.2)"
   ]
  },
  {
   "cell_type": "code",
   "execution_count": 184,
   "metadata": {},
   "outputs": [
    {
     "data": {
      "text/html": [
       "<div>\n",
       "<style scoped>\n",
       "    .dataframe tbody tr th:only-of-type {\n",
       "        vertical-align: middle;\n",
       "    }\n",
       "\n",
       "    .dataframe tbody tr th {\n",
       "        vertical-align: top;\n",
       "    }\n",
       "\n",
       "    .dataframe thead th {\n",
       "        text-align: right;\n",
       "    }\n",
       "</style>\n",
       "<table border=\"1\" class=\"dataframe\">\n",
       "  <thead>\n",
       "    <tr style=\"text-align: right;\">\n",
       "      <th></th>\n",
       "      <th>mpg</th>\n",
       "      <th>cylinders</th>\n",
       "      <th>displacement</th>\n",
       "      <th>horsepower</th>\n",
       "      <th>weight</th>\n",
       "      <th>acceleration</th>\n",
       "      <th>model year</th>\n",
       "    </tr>\n",
       "  </thead>\n",
       "  <tbody>\n",
       "    <tr>\n",
       "      <th>331</th>\n",
       "      <td>40.8</td>\n",
       "      <td>4</td>\n",
       "      <td>85.0</td>\n",
       "      <td>65.0</td>\n",
       "      <td>2110</td>\n",
       "      <td>19.2</td>\n",
       "      <td>10</td>\n",
       "    </tr>\n",
       "    <tr>\n",
       "      <th>385</th>\n",
       "      <td>31.0</td>\n",
       "      <td>4</td>\n",
       "      <td>91.0</td>\n",
       "      <td>68.0</td>\n",
       "      <td>1970</td>\n",
       "      <td>17.6</td>\n",
       "      <td>12</td>\n",
       "    </tr>\n",
       "    <tr>\n",
       "      <th>52</th>\n",
       "      <td>18.0</td>\n",
       "      <td>6</td>\n",
       "      <td>258.0</td>\n",
       "      <td>110.0</td>\n",
       "      <td>2962</td>\n",
       "      <td>13.5</td>\n",
       "      <td>1</td>\n",
       "    </tr>\n",
       "    <tr>\n",
       "      <th>298</th>\n",
       "      <td>19.2</td>\n",
       "      <td>8</td>\n",
       "      <td>267.0</td>\n",
       "      <td>125.0</td>\n",
       "      <td>3605</td>\n",
       "      <td>15.0</td>\n",
       "      <td>9</td>\n",
       "    </tr>\n",
       "    <tr>\n",
       "      <th>151</th>\n",
       "      <td>31.0</td>\n",
       "      <td>4</td>\n",
       "      <td>76.0</td>\n",
       "      <td>52.0</td>\n",
       "      <td>1649</td>\n",
       "      <td>16.5</td>\n",
       "      <td>4</td>\n",
       "    </tr>\n",
       "  </tbody>\n",
       "</table>\n",
       "</div>"
      ],
      "text/plain": [
       "      mpg  cylinders  displacement  horsepower  weight  acceleration  \\\n",
       "331  40.8          4          85.0        65.0    2110          19.2   \n",
       "385  31.0          4          91.0        68.0    1970          17.6   \n",
       "52   18.0          6         258.0       110.0    2962          13.5   \n",
       "298  19.2          8         267.0       125.0    3605          15.0   \n",
       "151  31.0          4          76.0        52.0    1649          16.5   \n",
       "\n",
       "     model year  \n",
       "331          10  \n",
       "385          12  \n",
       "52            1  \n",
       "298           9  \n",
       "151           4  "
      ]
     },
     "execution_count": 184,
     "metadata": {},
     "output_type": "execute_result"
    }
   ],
   "source": [
    "test.head()"
   ]
  },
  {
   "cell_type": "code",
   "execution_count": 185,
   "metadata": {},
   "outputs": [],
   "source": [
    "train.columns=[\"MPG\", \"Cilindraje\", \"Desplazamiento\", \"Caballos de fuerza\", \"Peso\", \"Aceleracion\", \"Año modelo\" ]\n",
    "test.columns=[\"MPG\", \"Cilindraje\", \"Desplazamiento\", \"Caballos de fuerza\", \"Peso\", \"Aceleracion\", \"Año modelo\" ]"
   ]
  },
  {
   "cell_type": "code",
   "execution_count": 186,
   "metadata": {},
   "outputs": [
    {
     "name": "stderr",
     "output_type": "stream",
     "text": [
      "C:\\Users\\Ulises Cabrera\\Anaconda3\\lib\\site-packages\\ipykernel_launcher.py:4: SettingWithCopyWarning: \n",
      "A value is trying to be set on a copy of a slice from a DataFrame.\n",
      "Try using .loc[row_indexer,col_indexer] = value instead\n",
      "\n",
      "See the caveats in the documentation: http://pandas.pydata.org/pandas-docs/stable/indexing.html#indexing-view-versus-copy\n",
      "  after removing the cwd from sys.path.\n",
      "C:\\Users\\Ulises Cabrera\\Anaconda3\\lib\\site-packages\\ipykernel_launcher.py:9: SettingWithCopyWarning: \n",
      "A value is trying to be set on a copy of a slice from a DataFrame.\n",
      "Try using .loc[row_indexer,col_indexer] = value instead\n",
      "\n",
      "See the caveats in the documentation: http://pandas.pydata.org/pandas-docs/stable/indexing.html#indexing-view-versus-copy\n",
      "  if __name__ == '__main__':\n"
     ]
    }
   ],
   "source": [
    "cols= [\"Caballos de fuerza\", \"Peso\",\"Año modelo\" ]\n",
    "x = train[cols]\n",
    "y = np.log10(train[\"MPG\"])\n",
    "train[\"MPG\"]=y\n",
    "\n",
    "xtest = test[cols]\n",
    "ytest = np.log10(test[\"MPG\"])\n",
    "test[\"MPG\"]=ytest"
   ]
  },
  {
   "cell_type": "code",
   "execution_count": 192,
   "metadata": {},
   "outputs": [
    {
     "data": {
      "text/html": [
       "<table class=\"simpletable\">\n",
       "<caption>OLS Regression Results</caption>\n",
       "<tr>\n",
       "  <th>Dep. Variable:</th>           <td>MPG</td>       <th>  R-squared:         </th> <td>   0.865</td>\n",
       "</tr>\n",
       "<tr>\n",
       "  <th>Model:</th>                   <td>OLS</td>       <th>  Adj. R-squared:    </th> <td>   0.859</td>\n",
       "</tr>\n",
       "<tr>\n",
       "  <th>Method:</th>             <td>Least Squares</td>  <th>  F-statistic:       </th> <td>   159.7</td>\n",
       "</tr>\n",
       "<tr>\n",
       "  <th>Date:</th>             <td>Thu, 26 Sep 2019</td> <th>  Prob (F-statistic):</th> <td>1.73e-32</td>\n",
       "</tr>\n",
       "<tr>\n",
       "  <th>Time:</th>                 <td>10:40:27</td>     <th>  Log-Likelihood:    </th> <td>  121.87</td>\n",
       "</tr>\n",
       "<tr>\n",
       "  <th>No. Observations:</th>      <td>    79</td>      <th>  AIC:               </th> <td>  -235.7</td>\n",
       "</tr>\n",
       "<tr>\n",
       "  <th>Df Residuals:</th>          <td>    75</td>      <th>  BIC:               </th> <td>  -226.3</td>\n",
       "</tr>\n",
       "<tr>\n",
       "  <th>Df Model:</th>              <td>     3</td>      <th>                     </th>     <td> </td>   \n",
       "</tr>\n",
       "<tr>\n",
       "  <th>Covariance Type:</th>      <td>nonrobust</td>    <th>                     </th>     <td> </td>   \n",
       "</tr>\n",
       "</table>\n",
       "<table class=\"simpletable\">\n",
       "<tr>\n",
       "           <td></td>             <th>coef</th>     <th>std err</th>      <th>t</th>      <th>P>|t|</th>  <th>[0.025</th>    <th>0.975]</th>  \n",
       "</tr>\n",
       "<tr>\n",
       "  <th>const</th>              <td>    1.6585</td> <td>    0.029</td> <td>   57.530</td> <td> 0.000</td> <td>    1.601</td> <td>    1.716</td>\n",
       "</tr>\n",
       "<tr>\n",
       "  <th>Caballos de fuerza</th> <td>   -0.0002</td> <td>    0.000</td> <td>   -0.630</td> <td> 0.531</td> <td>   -0.001</td> <td>    0.001</td>\n",
       "</tr>\n",
       "<tr>\n",
       "  <th>Peso</th>               <td>   -0.0001</td> <td> 1.56e-05</td> <td>   -7.788</td> <td> 0.000</td> <td>   -0.000</td> <td>-9.04e-05</td>\n",
       "</tr>\n",
       "<tr>\n",
       "  <th>Año modelo</th>         <td>    0.0117</td> <td>    0.002</td> <td>    6.087</td> <td> 0.000</td> <td>    0.008</td> <td>    0.016</td>\n",
       "</tr>\n",
       "</table>\n",
       "<table class=\"simpletable\">\n",
       "<tr>\n",
       "  <th>Omnibus:</th>       <td> 4.486</td> <th>  Durbin-Watson:     </th> <td>   2.257</td>\n",
       "</tr>\n",
       "<tr>\n",
       "  <th>Prob(Omnibus):</th> <td> 0.106</td> <th>  Jarque-Bera (JB):  </th> <td>   5.425</td>\n",
       "</tr>\n",
       "<tr>\n",
       "  <th>Skew:</th>          <td> 0.124</td> <th>  Prob(JB):          </th> <td>  0.0664</td>\n",
       "</tr>\n",
       "<tr>\n",
       "  <th>Kurtosis:</th>      <td> 4.260</td> <th>  Cond. No.          </th> <td>1.48e+04</td>\n",
       "</tr>\n",
       "</table><br/><br/>Warnings:<br/>[1] Standard Errors assume that the covariance matrix of the errors is correctly specified.<br/>[2] The condition number is large, 1.48e+04. This might indicate that there are<br/>strong multicollinearity or other numerical problems."
      ],
      "text/plain": [
       "<class 'statsmodels.iolib.summary.Summary'>\n",
       "\"\"\"\n",
       "                            OLS Regression Results                            \n",
       "==============================================================================\n",
       "Dep. Variable:                    MPG   R-squared:                       0.865\n",
       "Model:                            OLS   Adj. R-squared:                  0.859\n",
       "Method:                 Least Squares   F-statistic:                     159.7\n",
       "Date:                Thu, 26 Sep 2019   Prob (F-statistic):           1.73e-32\n",
       "Time:                        10:40:27   Log-Likelihood:                 121.87\n",
       "No. Observations:                  79   AIC:                            -235.7\n",
       "Df Residuals:                      75   BIC:                            -226.3\n",
       "Df Model:                           3                                         \n",
       "Covariance Type:            nonrobust                                         \n",
       "======================================================================================\n",
       "                         coef    std err          t      P>|t|      [0.025      0.975]\n",
       "--------------------------------------------------------------------------------------\n",
       "const                  1.6585      0.029     57.530      0.000       1.601       1.716\n",
       "Caballos de fuerza    -0.0002      0.000     -0.630      0.531      -0.001       0.001\n",
       "Peso                  -0.0001   1.56e-05     -7.788      0.000      -0.000   -9.04e-05\n",
       "Año modelo             0.0117      0.002      6.087      0.000       0.008       0.016\n",
       "==============================================================================\n",
       "Omnibus:                        4.486   Durbin-Watson:                   2.257\n",
       "Prob(Omnibus):                  0.106   Jarque-Bera (JB):                5.425\n",
       "Skew:                           0.124   Prob(JB):                       0.0664\n",
       "Kurtosis:                       4.260   Cond. No.                     1.48e+04\n",
       "==============================================================================\n",
       "\n",
       "Warnings:\n",
       "[1] Standard Errors assume that the covariance matrix of the errors is correctly specified.\n",
       "[2] The condition number is large, 1.48e+04. This might indicate that there are\n",
       "strong multicollinearity or other numerical problems.\n",
       "\"\"\""
      ]
     },
     "execution_count": 192,
     "metadata": {},
     "output_type": "execute_result"
    }
   ],
   "source": [
    "X = smf.add_constant(x)\n",
    "est = smf.OLS(y, X).fit()\n",
    "est.summary()\n",
    "\n",
    "X2 = smf.add_constant(xtest)\n",
    "est2 = smf.OLS(ytest, X2).fit()\n",
    "est2.summary()"
   ]
  },
  {
   "cell_type": "code",
   "execution_count": 194,
   "metadata": {},
   "outputs": [
    {
     "data": {
      "text/plain": [
       "331    1.610660\n",
       "385    1.491362\n",
       "52     1.255273\n",
       "298    1.283301\n",
       "151    1.491362\n",
       "358    1.536558\n",
       "397    1.342423\n",
       "299    1.267172\n",
       "320    1.447158\n",
       "104    1.255273\n",
       "49     1.079181\n",
       "210    1.469822\n",
       "208    1.267172\n",
       "316    1.618048\n",
       "288    1.296665\n",
       "248    1.342423\n",
       "157    1.414973\n",
       "349    1.477121\n",
       "73     1.230449\n",
       "107    1.255273\n",
       "344    1.510545\n",
       "92     1.113943\n",
       "129    1.380211\n",
       "63     1.414973\n",
       "165    1.204120\n",
       "180    1.380211\n",
       "27     1.380211\n",
       "3      1.204120\n",
       "1      1.176091\n",
       "255    1.557507\n",
       "         ...   \n",
       "395    1.579784\n",
       "242    1.414973\n",
       "182    1.462398\n",
       "218    1.217484\n",
       "371    1.350248\n",
       "260    1.311754\n",
       "352    1.545307\n",
       "214    1.301030\n",
       "396    1.414973\n",
       "118    1.255273\n",
       "223    1.498311\n",
       "265    1.313867\n",
       "374    1.245513\n",
       "142    1.255273\n",
       "113    1.079181\n",
       "326    1.495544\n",
       "137    1.414973\n",
       "148    1.462398\n",
       "354    1.568202\n",
       "7      1.146128\n",
       "296    1.227887\n",
       "8      1.146128\n",
       "271    1.257679\n",
       "240    1.462398\n",
       "16     1.146128\n",
       "351    1.591065\n",
       "9      1.176091\n",
       "134    1.278754\n",
       "91     1.431364\n",
       "103    1.113943\n",
       "Name: MPG, Length: 79, dtype: float64"
      ]
     },
     "execution_count": 194,
     "metadata": {},
     "output_type": "execute_result"
    }
   ],
   "source": [
    "test[\"MPG\"]"
   ]
  },
  {
   "cell_type": "code",
   "execution_count": 193,
   "metadata": {},
   "outputs": [
    {
     "data": {
      "text/plain": [
       "331    1.519930\n",
       "385    1.562012\n",
       "52     1.279618\n",
       "298    1.302710\n",
       "151    1.500797\n",
       "358    1.540998\n",
       "397    1.440149\n",
       "299    1.252198\n",
       "320    1.441531\n",
       "104    1.289246\n",
       "49     1.011914\n",
       "210    1.498391\n",
       "208    1.264309\n",
       "316    1.511278\n",
       "288    1.392984\n",
       "248    1.382354\n",
       "157    1.394906\n",
       "349    1.492387\n",
       "73     1.191261\n",
       "107    1.308297\n",
       "344    1.495470\n",
       "92     1.142906\n",
       "129    1.342339\n",
       "63     1.416810\n",
       "165    1.132261\n",
       "180    1.388095\n",
       "27     1.338337\n",
       "3      1.193291\n",
       "1      1.155923\n",
       "255    1.532541\n",
       "         ...   \n",
       "395    1.429855\n",
       "242    1.457349\n",
       "182    1.472115\n",
       "218    1.239197\n",
       "371    1.358276\n",
       "260    1.355781\n",
       "352    1.577192\n",
       "214    1.326888\n",
       "396    1.478404\n",
       "118    1.414825\n",
       "223    1.486597\n",
       "265    1.324685\n",
       "374    1.362707\n",
       "142    1.243647\n",
       "113    1.093067\n",
       "326    1.464058\n",
       "137    1.393141\n",
       "148    1.419659\n",
       "354    1.549376\n",
       "7      1.061004\n",
       "296    1.199846\n",
       "8      1.043312\n",
       "271    1.331465\n",
       "240    1.494998\n",
       "16     1.168060\n",
       "351    1.561761\n",
       "9      1.126716\n",
       "134    1.330948\n",
       "91     1.405243\n",
       "103    1.176299\n",
       "Length: 79, dtype: float64"
      ]
     },
     "execution_count": 193,
     "metadata": {},
     "output_type": "execute_result"
    }
   ],
   "source": [
    "pred = est.predict(X2)\n",
    "pred"
   ]
  },
  {
   "cell_type": "code",
   "execution_count": 179,
   "metadata": {},
   "outputs": [],
   "source": [
    "train.to_csv(\"train.csv\", index=False)\n",
    "test.to_csv(\"test.csv\", index=False)"
   ]
  },
  {
   "cell_type": "code",
   "execution_count": null,
   "metadata": {},
   "outputs": [],
   "source": [
    "cols= [\"Caballos de fuerza\", \"Peso\",\"Año modelo\" ]\n",
    "x = train[cols]\n",
    "y = train[\"MPG\"]\n",
    "train[\"MPG\"]=y\n",
    "\n",
    "xtest = test[cols]\n",
    "ytest = test[\"MPG\"]\n",
    "test[\"MPG\"]=ytest"
   ]
  }
 ],
 "metadata": {
  "kernelspec": {
   "display_name": "Python 3",
   "language": "python",
   "name": "python3"
  },
  "language_info": {
   "codemirror_mode": {
    "name": "ipython",
    "version": 3
   },
   "file_extension": ".py",
   "mimetype": "text/x-python",
   "name": "python",
   "nbconvert_exporter": "python",
   "pygments_lexer": "ipython3",
   "version": "3.7.3"
  }
 },
 "nbformat": 4,
 "nbformat_minor": 2
}
